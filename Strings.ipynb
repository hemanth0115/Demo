{
  "nbformat": 4,
  "nbformat_minor": 0,
  "metadata": {
    "colab": {
      "name": "Strings.ipynb",
      "provenance": []
    },
    "kernelspec": {
      "name": "python3",
      "display_name": "Python 3"
    }
  },
  "cells": [
    {
      "cell_type": "markdown",
      "metadata": {
        "id": "f2AEJxI4fDwP",
        "colab_type": "text"
      },
      "source": [
        "1. Write a program to calculate length of a string"
      ]
    },
    {
      "cell_type": "code",
      "metadata": {
        "id": "cEaeKpdAxA8W",
        "colab_type": "code",
        "colab": {
          "base_uri": "https://localhost:8080/",
          "height": 51
        },
        "outputId": "363e01c9-6de0-4b4b-d5cf-681e69f4dfc7"
      },
      "source": [
        "n=input(\"enter the string: \")\n",
        "print(len(n))"
      ],
      "execution_count": null,
      "outputs": [
        {
          "output_type": "stream",
          "text": [
            "enter the string: Gitam university\n",
            "16\n"
          ],
          "name": "stdout"
        }
      ]
    },
    {
      "cell_type": "markdown",
      "metadata": {
        "id": "sob_m7AefrRv",
        "colab_type": "text"
      },
      "source": [
        "2. Write a program to count number of characters in a string"
      ]
    },
    {
      "cell_type": "code",
      "metadata": {
        "id": "vFh6NaedfXB8",
        "colab_type": "code",
        "colab": {
          "base_uri": "https://localhost:8080/",
          "height": 51
        },
        "outputId": "820f8c51-c2d3-4fa1-d5b9-3ffeb4fc408d"
      },
      "source": [
        "n=input(\"enter the string: \")\n",
        "count=0\n",
        "for i in n:\n",
        "  count=count+1\n",
        "  \n",
        "print(count)"
      ],
      "execution_count": null,
      "outputs": [
        {
          "output_type": "stream",
          "text": [
            "enter the string: Good morning\n",
            "12\n"
          ],
          "name": "stdout"
        }
      ]
    },
    {
      "cell_type": "markdown",
      "metadata": {
        "id": "BVEbz_oxv-NT",
        "colab_type": "text"
      },
      "source": [
        "3. Write a python program to get a single string from given two strings, separated by space and swap the first two characters of each string"
      ]
    },
    {
      "cell_type": "code",
      "metadata": {
        "id": "ECfGnlg0v_JT",
        "colab_type": "code",
        "colab": {
          "base_uri": "https://localhost:8080/",
          "height": 34
        },
        "outputId": "291601d6-81e2-443d-ef48-e901871e5db1"
      },
      "source": [
        "str1='ball'\n",
        "str2='cell'\n",
        "new_a=str2[:2]+str1[2:]\n",
        "new_b=str1[:2]+str2[2:]\n",
        "print(new_a,new_b,sep=' ')\n"
      ],
      "execution_count": null,
      "outputs": [
        {
          "output_type": "stream",
          "text": [
            "cell ball\n"
          ],
          "name": "stdout"
        }
      ]
    },
    {
      "cell_type": "markdown",
      "metadata": {
        "id": "Py3Osx1SiecH",
        "colab_type": "text"
      },
      "source": [
        "4. Write a python script that takes input from user and displays that input in upper and lower case form"
      ]
    },
    {
      "cell_type": "code",
      "metadata": {
        "id": "Cg0JUH_3ggnS",
        "colab_type": "code",
        "colab": {
          "base_uri": "https://localhost:8080/",
          "height": 68
        },
        "outputId": "3723c16d-4d04-486b-f103-c983d43ac1be"
      },
      "source": [
        "str1=input(\"enter the string: \")\n",
        "print(str1.upper())\n",
        "print(str1.lower())"
      ],
      "execution_count": null,
      "outputs": [
        {
          "output_type": "stream",
          "text": [
            "enter the string: LiOn TiGeR\n",
            "LION TIGER\n",
            "lion tiger\n"
          ],
          "name": "stdout"
        }
      ]
    },
    {
      "cell_type": "markdown",
      "metadata": {
        "id": "WSodN5GljgO0",
        "colab_type": "text"
      },
      "source": [
        "5. Write a python program to remove a newline in python"
      ]
    },
    {
      "cell_type": "code",
      "metadata": {
        "id": "rcVyHtMDjGZp",
        "colab_type": "code",
        "colab": {
          "base_uri": "https://localhost:8080/",
          "height": 34
        },
        "outputId": "0014ef4e-ca07-4d4b-d9c8-929b86dc23a5"
      },
      "source": [
        "str1='Good morning\\n'\n",
        "print(str1.rstrip())"
      ],
      "execution_count": null,
      "outputs": [
        {
          "output_type": "stream",
          "text": [
            "Good morning\n"
          ],
          "name": "stdout"
        }
      ]
    },
    {
      "cell_type": "markdown",
      "metadata": {
        "id": "rxakN1XbkJfc",
        "colab_type": "text"
      },
      "source": [
        "6. Write a python program to count occurance of a substring in a string"
      ]
    },
    {
      "cell_type": "code",
      "metadata": {
        "id": "gQ7tYOaYkIQe",
        "colab_type": "code",
        "colab": {
          "base_uri": "https://localhost:8080/",
          "height": 34
        },
        "outputId": "d58c494a-77e0-43e7-a0d5-ddf44ac98149"
      },
      "source": [
        "n='malayalam'\n",
        "print(n.count('a'))\n"
      ],
      "execution_count": null,
      "outputs": [
        {
          "output_type": "stream",
          "text": [
            "4\n"
          ],
          "name": "stdout"
        }
      ]
    },
    {
      "cell_type": "markdown",
      "metadata": {
        "id": "SdMfoxgWlu-N",
        "colab_type": "text"
      },
      "source": [
        "7. Write a python program to convert string to list "
      ]
    },
    {
      "cell_type": "code",
      "metadata": {
        "id": "nH6pxzzGlbex",
        "colab_type": "code",
        "colab": {
          "base_uri": "https://localhost:8080/",
          "height": 34
        },
        "outputId": "3d504b9c-68c0-4605-bd5c-db7dcadb0206"
      },
      "source": [
        "str1='good morning people od bengaluru'\n",
        "print(str1.split())"
      ],
      "execution_count": null,
      "outputs": [
        {
          "output_type": "stream",
          "text": [
            "['good', 'morning', 'people', 'od', 'bengaluru']\n"
          ],
          "name": "stdout"
        }
      ]
    },
    {
      "cell_type": "markdown",
      "metadata": {
        "id": "r1yU3dsDpRwG",
        "colab_type": "text"
      },
      "source": [
        "8. Write a python program to perform deletion of a character"
      ]
    },
    {
      "cell_type": "code",
      "metadata": {
        "id": "9tItgR7yoZ4i",
        "colab_type": "code",
        "colab": {
          "base_uri": "https://localhost:8080/",
          "height": 34
        },
        "outputId": "46699fc3-761b-453d-80f3-8b35fab9380e"
      },
      "source": [
        "str1='good morning'\n",
        "str2=' '\n",
        "for i in range(len(str1)):\n",
        "  if i!=3:\n",
        "    str2=str2+str1[i]\n",
        "print(str2)"
      ],
      "execution_count": null,
      "outputs": [
        {
          "output_type": "stream",
          "text": [
            " goo morning\n"
          ],
          "name": "stdout"
        }
      ]
    },
    {
      "cell_type": "markdown",
      "metadata": {
        "id": "rEHpAOokrn8a",
        "colab_type": "text"
      },
      "source": [
        "9. Write a program to print every character of a string entered by user in a newline using loop"
      ]
    },
    {
      "cell_type": "code",
      "metadata": {
        "id": "lkqjAsvIq_a9",
        "colab_type": "code",
        "colab": {
          "base_uri": "https://localhost:8080/",
          "height": 102
        },
        "outputId": "31ee86d4-6237-49a4-c6c4-4f5ebfe0b66f"
      },
      "source": [
        "str1='GITAM'\n",
        "for i in str1:\n",
        "  print(i)"
      ],
      "execution_count": null,
      "outputs": [
        {
          "output_type": "stream",
          "text": [
            "G\n",
            "I\n",
            "T\n",
            "A\n",
            "M\n"
          ],
          "name": "stdout"
        }
      ]
    },
    {
      "cell_type": "markdown",
      "metadata": {
        "id": "TNZm2Vk3tD5C",
        "colab_type": "text"
      },
      "source": [
        "10. Write a program to find the length of the string 'refrigerator' without using len function\n",
        "\n"
      ]
    },
    {
      "cell_type": "code",
      "metadata": {
        "id": "S1gUVMvRsnzI",
        "colab_type": "code",
        "colab": {
          "base_uri": "https://localhost:8080/",
          "height": 34
        },
        "outputId": "3b8bbd33-3b14-4740-85ec-d64a477130d5"
      },
      "source": [
        "str1='refrigerator'\n",
        "count=0\n",
        "for i in str1:\n",
        "  count=count+1\n",
        "print(count)"
      ],
      "execution_count": null,
      "outputs": [
        {
          "output_type": "stream",
          "text": [
            "12\n"
          ],
          "name": "stdout"
        }
      ]
    },
    {
      "cell_type": "code",
      "metadata": {
        "id": "0R20dlMiu5e5",
        "colab_type": "code",
        "colab": {}
      },
      "source": [
        ""
      ],
      "execution_count": null,
      "outputs": []
    }
  ]
}