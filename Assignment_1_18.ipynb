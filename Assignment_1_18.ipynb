{
  "nbformat": 4,
  "nbformat_minor": 0,
  "metadata": {
    "colab": {
      "name": "Assignment_1_18.ipynb",
      "provenance": [],
      "authorship_tag": "ABX9TyMGIdTJhLzITk5fznxgHKrZ",
      "include_colab_link": true
    },
    "kernelspec": {
      "name": "python3",
      "display_name": "Python 3"
    }
  },
  "cells": [
    {
      "cell_type": "markdown",
      "metadata": {
        "id": "view-in-github",
        "colab_type": "text"
      },
      "source": [
        "<a href=\"https://colab.research.google.com/github/hemanth0115/Demo/blob/master/Assignment_1_18.ipynb\" target=\"_parent\"><img src=\"https://colab.research.google.com/assets/colab-badge.svg\" alt=\"Open In Colab\"/></a>"
      ]
    },
    {
      "cell_type": "markdown",
      "metadata": {
        "id": "p1NcOG9EhglO",
        "colab_type": "text"
      },
      "source": [
        "1.\tWrite a python program to design simple calculator for the operators "
      ]
    },
    {
      "cell_type": "code",
      "metadata": {
        "id": "dxIOh6jAhsMU",
        "colab_type": "code",
        "colab": {
          "base_uri": "https://localhost:8080/",
          "height": 170
        },
        "outputId": "1138be7b-0646-42bb-e9a5-307ef7dd8b5b"
      },
      "source": [
        "s=int(input(\"enter the number a\"))\n",
        "h=int(input(\"enter the number b\"))\n",
        "print(\"The addition is\",s+h)\n",
        "print(\"the subraction is\",s-h)\n",
        "print(\"the multipication is\",s*h)\n",
        "print(\"the division is\",s/h)\n",
        "print(\"the floor division is\",s//h)\n",
        "print(\"the modulus division is\",s%h)\n",
        "print(\"the exponential is\",s**h)"
      ],
      "execution_count": 2,
      "outputs": [
        {
          "output_type": "stream",
          "text": [
            "enter the number a5\n",
            "enter the number b3\n",
            "The addition is 8\n",
            "the subraction is 2\n",
            "the multipication is 15\n",
            "the division is 1.6666666666666667\n",
            "the floor division is 1\n",
            "the modulus division is 2\n",
            "the exponential is 125\n"
          ],
          "name": "stdout"
        }
      ]
    },
    {
      "cell_type": "markdown",
      "metadata": {
        "id": "frAJ7cNejroa",
        "colab_type": "text"
      },
      "source": [
        "2.\tWrite a python program to calculate simple interest."
      ]
    },
    {
      "cell_type": "code",
      "metadata": {
        "id": "gz2uy1kmjIVO",
        "colab_type": "code",
        "colab": {
          "base_uri": "https://localhost:8080/",
          "height": 85
        },
        "outputId": "3dfd4f03-1261-4aa5-c001-607d22b0dc34"
      },
      "source": [
        "p=float(input(\"enter the value of p\"))\n",
        "t=float(input(\"enter the value of t\"))\n",
        "r=float(input(\"enter the value of r\"))\n",
        "si=p*t*r/100\n",
        "print(\"the simple intrest is\",si)\n"
      ],
      "execution_count": 16,
      "outputs": [
        {
          "output_type": "stream",
          "text": [
            "enter the value of p5\n",
            "enter the value of t2.85\n",
            "enter the value of r2\n",
            "the simple intrest is 0.285\n"
          ],
          "name": "stdout"
        }
      ]
    },
    {
      "cell_type": "markdown",
      "metadata": {
        "id": "TBE6Mjpek3m6",
        "colab_type": "text"
      },
      "source": [
        "3.\tWrite a python program to calculate area of a circle."
      ]
    },
    {
      "cell_type": "code",
      "metadata": {
        "id": "QUCoopZokkE8",
        "colab_type": "code",
        "colab": {
          "base_uri": "https://localhost:8080/",
          "height": 51
        },
        "outputId": "754996e7-b824-4a4c-9b80-2ef3faab1e17"
      },
      "source": [
        "r=int(input(\"enter the value of r\"))\n",
        "A=3.14*r*r\n",
        "print(\"Area of circle is\",A)"
      ],
      "execution_count": 17,
      "outputs": [
        {
          "output_type": "stream",
          "text": [
            "enter the value of r5\n",
            "Area of circle is 78.5\n"
          ],
          "name": "stdout"
        }
      ]
    },
    {
      "cell_type": "markdown",
      "metadata": {
        "id": "OS-aS-zEl-Pm",
        "colab_type": "text"
      },
      "source": [
        "4.\tWrite a python program to calculate area of a triangle."
      ]
    },
    {
      "cell_type": "code",
      "metadata": {
        "id": "wj0pIIX7lSvV",
        "colab_type": "code",
        "colab": {
          "base_uri": "https://localhost:8080/",
          "height": 68
        },
        "outputId": "ad8ced9d-99ee-4ee3-a7b1-d36894f679ac"
      },
      "source": [
        "b=float(input(\"enther the value of b\"))\n",
        "h=float(input(\"enter the value of h\"))\n",
        "A=1/2*b*h\n",
        "print(\"Area of a triangle\",A)"
      ],
      "execution_count": 18,
      "outputs": [
        {
          "output_type": "stream",
          "text": [
            "enther the value of b56\n",
            "enter the value of h56\n",
            "Area of a triangle 1568.0\n"
          ],
          "name": "stdout"
        }
      ]
    },
    {
      "cell_type": "markdown",
      "metadata": {
        "id": "pJFWJ_pmm0f5",
        "colab_type": "text"
      },
      "source": [
        "5.\tWrite a python program to temperature in Celsius to Fahrenheit"
      ]
    },
    {
      "cell_type": "code",
      "metadata": {
        "id": "0kNoDOWRmug5",
        "colab_type": "code",
        "colab": {
          "base_uri": "https://localhost:8080/",
          "height": 51
        },
        "outputId": "3ee132f9-f276-47f8-e5e5-82236e784753"
      },
      "source": [
        "c=float(input(\"enter the value of celsius\"))\n",
        "F=(c*1.8)+32\n",
        "print(\"the temperature of fahrenheit\",F)"
      ],
      "execution_count": 19,
      "outputs": [
        {
          "output_type": "stream",
          "text": [
            "enter the value of celsius290\n",
            "the temperature of fahrenheit 554.0\n"
          ],
          "name": "stdout"
        }
      ]
    },
    {
      "cell_type": "markdown",
      "metadata": {
        "id": "doMKUZbgoGVx",
        "colab_type": "text"
      },
      "source": [
        "6.\tWrite a python program to calculate area of rectangle"
      ]
    },
    {
      "cell_type": "code",
      "metadata": {
        "id": "0ldLgRvjn6ie",
        "colab_type": "code",
        "colab": {
          "base_uri": "https://localhost:8080/",
          "height": 68
        },
        "outputId": "ccec7a61-175f-4f2c-c71f-2bb202107366"
      },
      "source": [
        "l=int(input(\"enter the value of length\"))\n",
        "w=int(input(\"enter the value of width\"))\n",
        "A=l*w \n",
        "print(\"area of rectangle\",A)"
      ],
      "execution_count": 20,
      "outputs": [
        {
          "output_type": "stream",
          "text": [
            "enter the value of length2\n",
            "enter the value of width2\n",
            "area of rectangle 4\n"
          ],
          "name": "stdout"
        }
      ]
    },
    {
      "cell_type": "markdown",
      "metadata": {
        "id": "KmsL-zWxo1u7",
        "colab_type": "text"
      },
      "source": [
        "7.\tWrite a python program to calculate perimeter of a square"
      ]
    },
    {
      "cell_type": "code",
      "metadata": {
        "id": "XWJ5V-D0oqba",
        "colab_type": "code",
        "colab": {
          "base_uri": "https://localhost:8080/",
          "height": 51
        },
        "outputId": "bce6a54e-c7f8-4eda-87a0-961b55cd852a"
      },
      "source": [
        "a=int(input(\"enter the value of a\"))\n",
        "P=4*a\n",
        "print(\"Perimeter of a square\",P)\n"
      ],
      "execution_count": 21,
      "outputs": [
        {
          "output_type": "stream",
          "text": [
            "enter the value of a2\n",
            "Perimeter of a square 8\n"
          ],
          "name": "stdout"
        }
      ]
    },
    {
      "cell_type": "markdown",
      "metadata": {
        "id": "kLY1fPyPpVmY",
        "colab_type": "text"
      },
      "source": [
        "8.\tWrite a python program to calculate circumference of a circle."
      ]
    },
    {
      "cell_type": "code",
      "metadata": {
        "id": "Nm9to8RbpSr9",
        "colab_type": "code",
        "colab": {
          "base_uri": "https://localhost:8080/",
          "height": 51
        },
        "outputId": "4bb91818-5c57-4d93-b47c-1217c73b51c1"
      },
      "source": [
        "r=int(input(\"enter the value of radius\"))\n",
        "C=2*3.14*r\n",
        "print(\"Circumferenceof a circle\",C)"
      ],
      "execution_count": 22,
      "outputs": [
        {
          "output_type": "stream",
          "text": [
            "enter the value of radius4\n",
            "Circumferenceof a circle 25.12\n"
          ],
          "name": "stdout"
        }
      ]
    },
    {
      "cell_type": "markdown",
      "metadata": {
        "id": "pu2uBHCLqinI",
        "colab_type": "text"
      },
      "source": [
        "1.\tWrite a python program to swap two numbers."
      ]
    },
    {
      "cell_type": "code",
      "metadata": {
        "id": "OC2-xcgcpwAu",
        "colab_type": "code",
        "colab": {
          "base_uri": "https://localhost:8080/",
          "height": 68
        },
        "outputId": "bb673285-d39b-44ca-858e-3ec9469a234a"
      },
      "source": [
        "a=int(input(\"enter the value of a\"))\n",
        "b=int(input(\"enter the value of b\"))\n",
        "a=a+b\n",
        "b=a-b\n",
        "a=a-b\n",
        "print(\"the swaping of two number\",a,b)"
      ],
      "execution_count": 15,
      "outputs": [
        {
          "output_type": "stream",
          "text": [
            "enter the value of a20\n",
            "enter the value of b10\n",
            "the swaping of two number 10 20\n"
          ],
          "name": "stdout"
        }
      ]
    },
    {
      "cell_type": "code",
      "metadata": {
        "id": "Xa0WOrE5qXov",
        "colab_type": "code",
        "colab": {}
      },
      "source": [
        ""
      ],
      "execution_count": null,
      "outputs": []
    }
  ]
}