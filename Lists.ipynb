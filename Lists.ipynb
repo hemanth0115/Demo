{
  "nbformat": 4,
  "nbformat_minor": 0,
  "metadata": {
    "colab": {
      "name": "Lists.ipynb",
      "provenance": [],
      "collapsed_sections": []
    },
    "kernelspec": {
      "name": "python3",
      "display_name": "Python 3"
    }
  },
  "cells": [
    {
      "cell_type": "markdown",
      "metadata": {
        "id": "zUxjJ4rZ_tUG",
        "colab_type": "text"
      },
      "source": [
        "1. Program to print a specific series for multiple of 3 as \"Fizz\", multiple of 5 as \"Buzz\" and multiple of both as \"Fizzbuzz\""
      ]
    },
    {
      "cell_type": "code",
      "metadata": {
        "id": "aa-ME1EUVukv",
        "colab_type": "code",
        "colab": {
          "base_uri": "https://localhost:8080/",
          "height": 1000
        },
        "outputId": "4975a583-88bd-4894-c308-73e52b43a92e"
      },
      "source": [
        "print(\"The following series is shown as\")\n",
        "for i in range(1,101):\n",
        "    if i%3==0:\n",
        "        print(\"Fizz\")\n",
        "    if i%5==0:\n",
        "        print(\"Buzz\")\n",
        "    if i%3==0 and i%5==0:\n",
        "        print(\"FizzBuzz\")\n",
        "    print(i)    "
      ],
      "execution_count": 1,
      "outputs": [
        {
          "output_type": "stream",
          "text": [
            "The following series is shown as\n",
            "1\n",
            "2\n",
            "Fizz\n",
            "3\n",
            "4\n",
            "Buzz\n",
            "5\n",
            "Fizz\n",
            "6\n",
            "7\n",
            "8\n",
            "Fizz\n",
            "9\n",
            "Buzz\n",
            "10\n",
            "11\n",
            "Fizz\n",
            "12\n",
            "13\n",
            "14\n",
            "Fizz\n",
            "Buzz\n",
            "FizzBuzz\n",
            "15\n",
            "16\n",
            "17\n",
            "Fizz\n",
            "18\n",
            "19\n",
            "Buzz\n",
            "20\n",
            "Fizz\n",
            "21\n",
            "22\n",
            "23\n",
            "Fizz\n",
            "24\n",
            "Buzz\n",
            "25\n",
            "26\n",
            "Fizz\n",
            "27\n",
            "28\n",
            "29\n",
            "Fizz\n",
            "Buzz\n",
            "FizzBuzz\n",
            "30\n",
            "31\n",
            "32\n",
            "Fizz\n",
            "33\n",
            "34\n",
            "Buzz\n",
            "35\n",
            "Fizz\n",
            "36\n",
            "37\n",
            "38\n",
            "Fizz\n",
            "39\n",
            "Buzz\n",
            "40\n",
            "41\n",
            "Fizz\n",
            "42\n",
            "43\n",
            "44\n",
            "Fizz\n",
            "Buzz\n",
            "FizzBuzz\n",
            "45\n",
            "46\n",
            "47\n",
            "Fizz\n",
            "48\n",
            "49\n",
            "Buzz\n",
            "50\n",
            "Fizz\n",
            "51\n",
            "52\n",
            "53\n",
            "Fizz\n",
            "54\n",
            "Buzz\n",
            "55\n",
            "56\n",
            "Fizz\n",
            "57\n",
            "58\n",
            "59\n",
            "Fizz\n",
            "Buzz\n",
            "FizzBuzz\n",
            "60\n",
            "61\n",
            "62\n",
            "Fizz\n",
            "63\n",
            "64\n",
            "Buzz\n",
            "65\n",
            "Fizz\n",
            "66\n",
            "67\n",
            "68\n",
            "Fizz\n",
            "69\n",
            "Buzz\n",
            "70\n",
            "71\n",
            "Fizz\n",
            "72\n",
            "73\n",
            "74\n",
            "Fizz\n",
            "Buzz\n",
            "FizzBuzz\n",
            "75\n",
            "76\n",
            "77\n",
            "Fizz\n",
            "78\n",
            "79\n",
            "Buzz\n",
            "80\n",
            "Fizz\n",
            "81\n",
            "82\n",
            "83\n",
            "Fizz\n",
            "84\n",
            "Buzz\n",
            "85\n",
            "86\n",
            "Fizz\n",
            "87\n",
            "88\n",
            "89\n",
            "Fizz\n",
            "Buzz\n",
            "FizzBuzz\n",
            "90\n",
            "91\n",
            "92\n",
            "Fizz\n",
            "93\n",
            "94\n",
            "Buzz\n",
            "95\n",
            "Fizz\n",
            "96\n",
            "97\n",
            "98\n",
            "Fizz\n",
            "99\n",
            "Buzz\n",
            "100\n"
          ],
          "name": "stdout"
        }
      ]
    },
    {
      "cell_type": "markdown",
      "metadata": {
        "id": "59IBU6qgBUlk",
        "colab_type": "text"
      },
      "source": [
        "2. Program to remove consecutive duplicates from a list "
      ]
    },
    {
      "cell_type": "code",
      "metadata": {
        "id": "IFshZ1ypBbXO",
        "colab_type": "code",
        "colab": {
          "base_uri": "https://localhost:8080/",
          "height": 68
        },
        "outputId": "467bbb6d-2614-4b30-c9d8-757b72620349"
      },
      "source": [
        "print(\"The list before the deleting is \")\n",
        "list1=[2,1,1,3,4,4,5,6,7,7,8]\n",
        "a=0\n",
        "count=0\n",
        "while a<len(list1)-1:\n",
        "  if list1[a]==list1[a+1]:\n",
        "    del list1[a]\n",
        "    count=1\n",
        "  elif count:\n",
        "    del list1[a]\n",
        "    count=0\n",
        "  else:\n",
        "    a=a+1\n",
        "print(\"The list with free of dulpicates is \")    \n",
        "print(list1)    "
      ],
      "execution_count": 2,
      "outputs": [
        {
          "output_type": "stream",
          "text": [
            "The list before the deleting is \n",
            "The list with free of dulpicates is \n",
            "[2, 3, 5, 6, 8]\n"
          ],
          "name": "stdout"
        }
      ]
    },
    {
      "cell_type": "markdown",
      "metadata": {
        "id": "InHxLO8s__ys",
        "colab_type": "text"
      },
      "source": [
        "3. Program to get unique elements from list "
      ]
    },
    {
      "cell_type": "code",
      "metadata": {
        "id": "EFqsNUZM8r5_",
        "colab_type": "code",
        "colab": {
          "base_uri": "https://localhost:8080/",
          "height": 85
        },
        "outputId": "a6277fb6-60f7-4020-fd28-19dc2d81004d"
      },
      "source": [
        "print(\"The series before removing is\")\n",
        "list1=[2,1,1,1,3,9,9,4,5,5,5,6,6,7]\n",
        "print(list1)\n",
        "a=0\n",
        "while a<len(list1)-1:\n",
        "    if list1[a]==list1[a+1]:\n",
        "        del list1[a]\n",
        "    else:\n",
        "        a+=1\n",
        "print(\"The list with unique elements is \")\n",
        "print(list1)\n"
      ],
      "execution_count": 3,
      "outputs": [
        {
          "output_type": "stream",
          "text": [
            "The series before removing is\n",
            "[2, 1, 1, 1, 3, 9, 9, 4, 5, 5, 5, 6, 6, 7]\n",
            "The list with unique elements is \n",
            "[2, 1, 3, 9, 4, 5, 6, 7]\n"
          ],
          "name": "stdout"
        }
      ]
    },
    {
      "cell_type": "markdown",
      "metadata": {
        "id": "6o7RUs3IFOIx",
        "colab_type": "text"
      },
      "source": [
        "4. Program to whether the number is in range or no"
      ]
    },
    {
      "cell_type": "code",
      "metadata": {
        "id": "D5NU4F9V_FXE",
        "colab_type": "code",
        "colab": {
          "base_uri": "https://localhost:8080/",
          "height": 85
        },
        "outputId": "74579a8e-4ecb-45f9-bec9-2e1cfe74d281"
      },
      "source": [
        "n1=int(input(\"Enter the starting of the range \"))\n",
        "n2=int(input(\"Enter the ending of the range \"))\n",
        "n=int(input(\"Enter your number \"))\n",
        "def num(n):\n",
        "  if n in range(n1,n2):\n",
        "    print(n,\" is present in the range \")\n",
        "  else:\n",
        "    print(n,\" is not present in the range \")  \n",
        "num(n)    "
      ],
      "execution_count": 4,
      "outputs": [
        {
          "output_type": "stream",
          "text": [
            "Enter the starting of the range 0\n",
            "Enter the ending of the range 10\n",
            "Enter your number 4\n",
            "4  is present in the range \n"
          ],
          "name": "stdout"
        }
      ]
    },
    {
      "cell_type": "markdown",
      "metadata": {
        "id": "6_Mpjo1KHLOD",
        "colab_type": "text"
      },
      "source": [
        "5. Program which counts the number of lower cases and upper cases in given string"
      ]
    },
    {
      "cell_type": "code",
      "metadata": {
        "id": "O48-OEUZKa3q",
        "colab_type": "code",
        "colab": {
          "base_uri": "https://localhost:8080/",
          "height": 68
        },
        "outputId": "e92769d9-987e-4d24-b01c-a95a81958d60"
      },
      "source": [
        "a=str(input(\"Enter your string \"))\n",
        "count=0\n",
        "value=0\n",
        "empty_space=0\n",
        "for i in a:\n",
        "  if i.islower():\n",
        "    count=count+1\n",
        "  elif i.isupper():\n",
        "    value=value+1\n",
        "  else:\n",
        "    empty_space+=1\n",
        "print(\"The number of lowercase letters are \",count)\n",
        "print(\"The number of uppercase letters are \",value)\n"
      ],
      "execution_count": 5,
      "outputs": [
        {
          "output_type": "stream",
          "text": [
            "Enter your string  'Hello Mr. Rogers, how are you this fine Tuesday?'\n",
            "The number of lowercase letters are  33\n",
            "The number of uppercase letters are  4\n"
          ],
          "name": "stdout"
        }
      ]
    }
  ]
}