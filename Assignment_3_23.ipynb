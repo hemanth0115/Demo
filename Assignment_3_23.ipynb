{
  "nbformat": 4,
  "nbformat_minor": 0,
  "metadata": {
    "colab": {
      "name": "Assignment_3_23.ipynb",
      "provenance": [],
      "collapsed_sections": []
    },
    "kernelspec": {
      "name": "python3",
      "display_name": "Python 3"
    }
  },
  "cells": [
    {
      "cell_type": "markdown",
      "metadata": {
        "id": "9AroWZSTLrvH",
        "colab_type": "text"
      },
      "source": [
        "1.\tWrite a Python program to find area of a circle using math module."
      ]
    },
    {
      "cell_type": "code",
      "metadata": {
        "id": "aAcr5V8P0Neh",
        "colab_type": "code",
        "colab": {
          "base_uri": "https://localhost:8080/",
          "height": 51
        },
        "outputId": "976869ca-d2d7-40ba-ea73-740864fec100"
      },
      "source": [
        "import math\n",
        "r=int(input(\"entre the radius of circle : \"))\n",
        "A=math.pi*r*r\n",
        "print(\"The area of the circle is \",A)"
      ],
      "execution_count": null,
      "outputs": [
        {
          "output_type": "stream",
          "text": [
            "entre the radius of circle : 5\n",
            "The area of the circle is  78.53981633974483\n"
          ],
          "name": "stdout"
        }
      ]
    },
    {
      "cell_type": "markdown",
      "metadata": {
        "id": "pcVg2WgEN_Ix",
        "colab_type": "text"
      },
      "source": [
        "2.\tWrite a program to find Area of Regular Polygon."
      ]
    },
    {
      "cell_type": "code",
      "metadata": {
        "id": "UsZeAqBKNxnR",
        "colab_type": "code",
        "colab": {
          "base_uri": "https://localhost:8080/",
          "height": 68
        },
        "outputId": "413f9c2f-e653-4423-9f05-0bf4c8d57731"
      },
      "source": [
        "import math\n",
        "s=int(input(\"enter the number of sides : \"))\n",
        "l=int(input(\"enter the length of a sides : \"))\n",
        "A=s*(l**2)/(4*math.tan(math.pi/s))\n",
        "print(\"The area of polygon is \",A)"
      ],
      "execution_count": null,
      "outputs": [
        {
          "output_type": "stream",
          "text": [
            "enter the number of sides : 4\n",
            "enter the length of a sides : 20\n",
            "The area of polygon is  400.00000000000006\n"
          ],
          "name": "stdout"
        }
      ]
    },
    {
      "cell_type": "markdown",
      "metadata": {
        "id": "2r11-yzyTprM",
        "colab_type": "text"
      },
      "source": [
        "3.\tWrite a program to find Area of a Segment of a Circle Formula using math module."
      ]
    },
    {
      "cell_type": "code",
      "metadata": {
        "id": "YFxvpTrvQVJk",
        "colab_type": "code",
        "colab": {
          "base_uri": "https://localhost:8080/",
          "height": 68
        },
        "outputId": "bb870984-6bf0-42d7-f20c-00929c0d7bfb"
      },
      "source": [
        "import math\n",
        "r=float(input(\"enter the radius: \"))\n",
        "a=float(input(\"enter the angle: \"))\n",
        "area=(math.pi*r**2)*(a/360)\n",
        "print(\"The area of segment of circle is: \",area)"
      ],
      "execution_count": null,
      "outputs": [
        {
          "output_type": "stream",
          "text": [
            "enter the radius: 4\n",
            "enter the angle: 45\n",
            "The area of segment of circle is:  6.283185307179586\n"
          ],
          "name": "stdout"
        }
      ]
    },
    {
      "cell_type": "markdown",
      "metadata": {
        "id": "9wGzX-17WulI",
        "colab_type": "text"
      },
      "source": [
        "4.\tWrite a python program to generate random number from list l1=[100,1,2,3,30,40]."
      ]
    },
    {
      "cell_type": "code",
      "metadata": {
        "id": "neiwDG0NW1hq",
        "colab_type": "code",
        "colab": {
          "base_uri": "https://localhost:8080/",
          "height": 34
        },
        "outputId": "50b0194f-916d-4c78-e566-6f9bc6e4b47a"
      },
      "source": [
        "import random\n",
        "print(\"The random number from list l1 is \",random.choice([100,1,2,3,30,40]))"
      ],
      "execution_count": null,
      "outputs": [
        {
          "output_type": "stream",
          "text": [
            "The random number from list l1 is  40\n"
          ],
          "name": "stdout"
        }
      ]
    },
    {
      "cell_type": "markdown",
      "metadata": {
        "id": "VWiiuc_1Xofb",
        "colab_type": "text"
      },
      "source": [
        "5.\tWrite a program to generate random numbers between 1,10000 and difference between each random number is 50."
      ]
    },
    {
      "cell_type": "code",
      "metadata": {
        "id": "-ybsUNVdXYK9",
        "colab_type": "code",
        "colab": {
          "base_uri": "https://localhost:8080/",
          "height": 34
        },
        "outputId": "d9e98caa-ea6f-4b23-80e3-f77ef7272c2c"
      },
      "source": [
        "import random\n",
        "print(\"The random number from range is \",random.randrange(1,10000,50))"
      ],
      "execution_count": null,
      "outputs": [
        {
          "output_type": "stream",
          "text": [
            "The random number from range is  3751\n"
          ],
          "name": "stdout"
        }
      ]
    },
    {
      "cell_type": "markdown",
      "metadata": {
        "id": "uiYkKi5-YOtw",
        "colab_type": "text"
      },
      "source": [
        "6.\tWrite a python program by using math module to find"
      ]
    },
    {
      "cell_type": "code",
      "metadata": {
        "id": "1x8_aR2uYJER",
        "colab_type": "code",
        "colab": {
          "base_uri": "https://localhost:8080/",
          "height": 170
        },
        "outputId": "39c405b8-706e-48f8-be70-8b4248c1f3c5"
      },
      "source": [
        "import math\n",
        "print(\"The angle is sin60 is: \",math.sin(60))\n",
        "print(\"The value of cospi is: \",math.cos(math.pi))\n",
        "print(\"The value of tan90 is: \",math.tan(90))\n",
        "print(\"The angle of sin is: \",math.asin(0.8660254037844386))\n",
        "print(\"The use of xor bitwise operator is: \",5^8)\n",
        "print(\"The square root of 400 is: \",math.sqrt(400))\n",
        "\n",
        "print(\"The value of log(1024) is: \",math.log2(1024))\n",
        "print(\"The value of Log(1024), base 10 is: \",math.log10(1024))\n",
        "print(\"The Floor and Ceiling value of 23.56 is: \",math.floor(23.56),math.ceil(23.56))\n"
      ],
      "execution_count": null,
      "outputs": [
        {
          "output_type": "stream",
          "text": [
            "The angle is sin60 is:  -0.3048106211022167\n",
            "The value of cospi is:  -1.0\n",
            "The value of tan90 is:  -1.995200412208242\n",
            "The angle of sin is:  1.0471975511965976\n",
            "The use of xor bitwise operator is:  13\n",
            "The square root of 400 is:  20.0\n",
            "The value of log(1024) is:  10.0\n",
            "The value of Log(1024), base 10 is:  3.010299956639812\n",
            "The Floor and Ceiling value of 23.56 is:  23 24\n"
          ],
          "name": "stdout"
        }
      ]
    },
    {
      "cell_type": "code",
      "metadata": {
        "id": "EVn68itWcb-L",
        "colab_type": "code",
        "colab": {}
      },
      "source": [
        ""
      ],
      "execution_count": null,
      "outputs": []
    }
  ]
}