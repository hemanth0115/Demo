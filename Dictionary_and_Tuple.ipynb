{
  "nbformat": 4,
  "nbformat_minor": 0,
  "metadata": {
    "colab": {
      "name": "Dictionary and Tuple.ipynb",
      "provenance": []
    },
    "kernelspec": {
      "name": "python3",
      "display_name": "Python 3"
    }
  },
  "cells": [
    {
      "cell_type": "markdown",
      "metadata": {
        "id": "yyirjvibwsVv",
        "colab_type": "text"
      },
      "source": [
        "1. What is dictionary in Python? Explain with an example\n",
        "\n",
        "A: Dictonary is a collection of unorder set of 'key:values' pairs, with the requirement that keys are unique in one dictonary.\n",
        "Example:"
      ]
    },
    {
      "cell_type": "code",
      "metadata": {
        "id": "qmDHJxmEwORU",
        "colab_type": "code",
        "colab": {
          "base_uri": "https://localhost:8080/",
          "height": 34
        },
        "outputId": "95b29927-cba9-4c30-aff4-f4473cdb5fa9"
      },
      "source": [
        "d={}\n",
        "d['James']=\"Bond\"\n",
        "d[\"Indiana\"]=\"Jones\"\n",
        "print(d)"
      ],
      "execution_count": 1,
      "outputs": [
        {
          "output_type": "stream",
          "text": [
            "{'James': 'Bond', 'Indiana': 'Jones'}\n"
          ],
          "name": "stdout"
        }
      ]
    },
    {
      "cell_type": "markdown",
      "metadata": {
        "id": "B_wlHm3a-y_-",
        "colab_type": "text"
      },
      "source": [
        "3. Write a Python program to sum all the items in a list."
      ]
    },
    {
      "cell_type": "code",
      "metadata": {
        "id": "cvQUcTV4-p69",
        "colab_type": "code",
        "colab": {
          "base_uri": "https://localhost:8080/",
          "height": 34
        },
        "outputId": "5f0beec6-e7e7-4a9b-bd54-7030f93dc50a"
      },
      "source": [
        "li=[1,2,3,4,5]\n",
        "count=0\n",
        "for i in li:\n",
        "  count=count+i\n",
        "print(\"The sum of all elements in list is\",count)\n",
        "\n",
        "  \n"
      ],
      "execution_count": 12,
      "outputs": [
        {
          "output_type": "stream",
          "text": [
            "The sum of all elements in list is 15\n"
          ],
          "name": "stdout"
        }
      ]
    },
    {
      "cell_type": "markdown",
      "metadata": {
        "id": "FKn_ALxBBh3S",
        "colab_type": "text"
      },
      "source": [
        "4. Write a Python program to create a list of empty dictionaries."
      ]
    },
    {
      "cell_type": "code",
      "metadata": {
        "id": "xbusUJZA_hhm",
        "colab_type": "code",
        "colab": {
          "base_uri": "https://localhost:8080/",
          "height": 34
        },
        "outputId": "276e60f0-d23f-4ed7-bb1d-28c7586ee059"
      },
      "source": [
        "li=[{},{},{},{},{},{},{}]\n",
        "print(\"The list of empty dictionaries are:\",li)"
      ],
      "execution_count": 13,
      "outputs": [
        {
          "output_type": "stream",
          "text": [
            "The list of empty dictionaries are: [{}, {}, {}, {}, {}, {}, {}]\n"
          ],
          "name": "stdout"
        }
      ]
    },
    {
      "cell_type": "markdown",
      "metadata": {
        "id": "X-3_K5XKDIcD",
        "colab_type": "text"
      },
      "source": [
        "5. Write a Python program to access dictionary keys element by index."
      ]
    },
    {
      "cell_type": "code",
      "metadata": {
        "id": "FvdRbsNkC_u0",
        "colab_type": "code",
        "colab": {
          "base_uri": "https://localhost:8080/",
          "height": 34
        },
        "outputId": "889417c2-cb6a-488d-850d-21f415fdccf4"
      },
      "source": [
        "di={'Bond':7, 'Anne': 2002, 'lucky':26}\n",
        "print(list(di)[1])"
      ],
      "execution_count": 22,
      "outputs": [
        {
          "output_type": "stream",
          "text": [
            "Anne\n"
          ],
          "name": "stdout"
        }
      ]
    },
    {
      "cell_type": "markdown",
      "metadata": {
        "id": "y1uO93xPGrZy",
        "colab_type": "text"
      },
      "source": [
        "6. Write a Python program to iterate over dictionaries using for loops"
      ]
    },
    {
      "cell_type": "code",
      "metadata": {
        "id": "TLeVph4uEDt9",
        "colab_type": "code",
        "colab": {
          "base_uri": "https://localhost:8080/",
          "height": 68
        },
        "outputId": "c89dff5f-83da-4542-eacd-a198171e1c87"
      },
      "source": [
        "d={'Bond':7, 'Anne':2002, 'lucky':26}\n",
        "for i in d:\n",
        "  print(i,d[i])"
      ],
      "execution_count": 27,
      "outputs": [
        {
          "output_type": "stream",
          "text": [
            "Bond 7\n",
            "Anne 2002\n",
            "lucky 26\n"
          ],
          "name": "stdout"
        }
      ]
    },
    {
      "cell_type": "markdown",
      "metadata": {
        "id": "eI25XN3dJCbq",
        "colab_type": "text"
      },
      "source": [
        "7. Write a Python program to sum all the items in a dictionary."
      ]
    },
    {
      "cell_type": "code",
      "metadata": {
        "id": "xKHhymXpIiAI",
        "colab_type": "code",
        "colab": {
          "base_uri": "https://localhost:8080/",
          "height": 34
        },
        "outputId": "63157ba3-e89a-4f79-bd99-c33efbb66192"
      },
      "source": [
        "d={'Bond':7, 'Anne':2002, 'lucky':26}\n",
        "count=0\n",
        "for i in d:\n",
        "  count=count+d[i]\n",
        "print(\"We can print only sum of values in all item of dictonary: \",count)"
      ],
      "execution_count": 32,
      "outputs": [
        {
          "output_type": "stream",
          "text": [
            "We can print only sum of values in all item of dictonary:  2035\n"
          ],
          "name": "stdout"
        }
      ]
    },
    {
      "cell_type": "markdown",
      "metadata": {
        "id": "mu4Auq4lKoVB",
        "colab_type": "text"
      },
      "source": [
        "8. Write a Python script to concatenate following dictionaries to create a new\n",
        "one. Sample Dictionary :\n",
        "a. dic1={1:10, 2:20}\n",
        "b. dic2={3:30, 4:40}\n",
        "c. dic3={5:50,6:60}\n",
        "Expected Result : {1: 10, 2: 20, 3: 30, 4: 40, 5: 50, 6: 60}"
      ]
    },
    {
      "cell_type": "code",
      "metadata": {
        "id": "Lpt355kaJa5S",
        "colab_type": "code",
        "colab": {
          "base_uri": "https://localhost:8080/",
          "height": 34
        },
        "outputId": "e61c746e-e7df-472b-fa98-394f25606bdc"
      },
      "source": [
        "dic1={1:10, 2:20}\n",
        "dic2={3:30, 4:40} \n",
        "dic3={5:50,6:60}\n",
        "dic4={}\n",
        "for i in (dic1,dic2,dic3):\n",
        "  dic4.update(i)\n",
        "print(dic4)"
      ],
      "execution_count": 36,
      "outputs": [
        {
          "output_type": "stream",
          "text": [
            "{1: 10, 2: 20, 3: 30, 4: 40, 5: 50, 6: 60}\n"
          ],
          "name": "stdout"
        }
      ]
    },
    {
      "cell_type": "markdown",
      "metadata": {
        "id": "CCWjGiJ4MUUv",
        "colab_type": "text"
      },
      "source": [
        "10.Write a Python program to create a tuple"
      ]
    },
    {
      "cell_type": "code",
      "metadata": {
        "id": "_nqcFeCqLsMR",
        "colab_type": "code",
        "colab": {
          "base_uri": "https://localhost:8080/",
          "height": 34
        },
        "outputId": "fe487a0e-696f-4e03-f0e5-f42b1eb7046e"
      },
      "source": [
        "t='James Bond', 'Men in Black', 'Raganork'\n",
        "print(t, type(t))"
      ],
      "execution_count": 37,
      "outputs": [
        {
          "output_type": "stream",
          "text": [
            "('James Bond', 'Men in Black', 'Raganork') <class 'tuple'>\n"
          ],
          "name": "stdout"
        }
      ]
    },
    {
      "cell_type": "markdown",
      "metadata": {
        "id": "jUeLbLsxMzt5",
        "colab_type": "text"
      },
      "source": [
        "11.Write a Python program to create a tuple with different data types"
      ]
    },
    {
      "cell_type": "code",
      "metadata": {
        "id": "whurogjBMxt5",
        "colab_type": "code",
        "colab": {
          "base_uri": "https://localhost:8080/",
          "height": 34
        },
        "outputId": "d9d4cb50-f6e9-4405-bac3-3109a0ef1eb5"
      },
      "source": [
        "t='James Bond',7,'Anne',2002,'lucky',26\n",
        "print(\"Tupple with different datatypes: \",t,end=\" \")\n",
        "print(\"the type of 't' is: \",type(t))"
      ],
      "execution_count": 39,
      "outputs": [
        {
          "output_type": "stream",
          "text": [
            "Tupple with different datatypes:  ('James Bond', 7, 'Anne', 2002, 'lucky', 26) the type of 't' is:  <class 'tuple'>\n"
          ],
          "name": "stdout"
        }
      ]
    },
    {
      "cell_type": "markdown",
      "metadata": {
        "id": "qoi5Qj6tNcCj",
        "colab_type": "text"
      },
      "source": [
        "12.Write a Python program to convert a tuple to a string"
      ]
    },
    {
      "cell_type": "code",
      "metadata": {
        "id": "wRGfg7GYNVVK",
        "colab_type": "code",
        "colab": {
          "base_uri": "https://localhost:8080/",
          "height": 34
        },
        "outputId": "9d93a9cb-627e-49e4-c659-b0d0709fe24c"
      },
      "source": [
        "t=('M','A','N','G','O')\n",
        "str=\"\".join(t)\n",
        "print(\"The conversion of tupple to a string is: \",str)"
      ],
      "execution_count": 43,
      "outputs": [
        {
          "output_type": "stream",
          "text": [
            "The conversion of tupple to a string is:  MANGO\n"
          ],
          "name": "stdout"
        }
      ]
    },
    {
      "cell_type": "markdown",
      "metadata": {
        "id": "l5dtc7dHPKD8",
        "colab_type": "text"
      },
      "source": [
        "13.Write a Python program to slice a tuple.\n",
        "\n"
      ]
    },
    {
      "cell_type": "code",
      "metadata": {
        "id": "dJQPgYZEOe3b",
        "colab_type": "code",
        "colab": {
          "base_uri": "https://localhost:8080/",
          "height": 34
        },
        "outputId": "a67675f4-b66c-400c-b6fe-28de0f02f3af"
      },
      "source": [
        "tuplex = (2, 4, 3, 5, 4, 6, 7, 8, 6, 1)\n",
        "slice = tuplex[3:5]\n",
        "print(slice)"
      ],
      "execution_count": 56,
      "outputs": [
        {
          "output_type": "stream",
          "text": [
            "(5, 4)\n"
          ],
          "name": "stdout"
        }
      ]
    },
    {
      "cell_type": "markdown",
      "metadata": {
        "id": "GYfmIbcKPx18",
        "colab_type": "text"
      },
      "source": [
        "14.Write a Python program to find the length of a tuple."
      ]
    },
    {
      "cell_type": "code",
      "metadata": {
        "id": "FV6AhPMPPyya",
        "colab_type": "code",
        "colab": {
          "base_uri": "https://localhost:8080/",
          "height": 34
        },
        "outputId": "26387a83-1190-498d-b464-039d97697a04"
      },
      "source": [
        "tuplet=('M','A','N','G','O')\n",
        "print(\"The length of a tuple is: \",len(tuplet))"
      ],
      "execution_count": 44,
      "outputs": [
        {
          "output_type": "stream",
          "text": [
            "The length of a tuple is:  5\n"
          ],
          "name": "stdout"
        }
      ]
    },
    {
      "cell_type": "markdown",
      "metadata": {
        "id": "DlsyEIL1Qkbn",
        "colab_type": "text"
      },
      "source": [
        "15.Write a Python program to convert a tuple to a dictionary."
      ]
    },
    {
      "cell_type": "code",
      "metadata": {
        "id": "FePpcf5JQcaw",
        "colab_type": "code",
        "colab": {
          "base_uri": "https://localhost:8080/",
          "height": 34
        },
        "outputId": "4fbae287-d6fa-41a2-dcae-e38041113266"
      },
      "source": [
        "t=[('b', 1), ('a', 10), ('c', 22)]\n",
        "x=dict(t)\n",
        "print(\"The conversion of tuple to a dictonary is: \",x)"
      ],
      "execution_count": 46,
      "outputs": [
        {
          "output_type": "stream",
          "text": [
            "The conversion of tuple to a dictonary is:  {'b': 1, 'a': 10, 'c': 22}\n"
          ],
          "name": "stdout"
        }
      ]
    },
    {
      "cell_type": "markdown",
      "metadata": {
        "id": "c36yj399RNMb",
        "colab_type": "text"
      },
      "source": [
        "16.Write a Python program to reverse a tuple"
      ]
    },
    {
      "cell_type": "code",
      "metadata": {
        "id": "MeAmXKrqREva",
        "colab_type": "code",
        "colab": {
          "base_uri": "https://localhost:8080/",
          "height": 34
        },
        "outputId": "e8dd8ed2-06bc-4b51-c68f-97090f36f5d3"
      },
      "source": [
        "t=('M','A','N','G','O')\n",
        "a=t[::-1]\n",
        "print(\"The reverse of a tuple is: \",a)"
      ],
      "execution_count": 52,
      "outputs": [
        {
          "output_type": "stream",
          "text": [
            "The reverse of a tuple is:  ('O', 'G', 'N', 'A', 'M')\n"
          ],
          "name": "stdout"
        }
      ]
    },
    {
      "cell_type": "markdown",
      "metadata": {
        "id": "MbnsD-UfS8iW",
        "colab_type": "text"
      },
      "source": [
        "17.Write a Python program to convert a list of tuples into a dictionary"
      ]
    },
    {
      "cell_type": "code",
      "metadata": {
        "id": "USMXG7zRR9dM",
        "colab_type": "code",
        "colab": {
          "base_uri": "https://localhost:8080/",
          "height": 34
        },
        "outputId": "dfeb648c-83ff-455d-a6b1-768c20527e2d"
      },
      "source": [
        "l = [(\"x\", 1), (\"x\", 2), (\"x\", 7), (\"y\", 1), (\"y\", 2), (\"z\", 1)]\n",
        "d = {}\n",
        "for a, b in l:\n",
        "    d.setdefault(a, []).append(b)\n",
        "print (d)"
      ],
      "execution_count": 54,
      "outputs": [
        {
          "output_type": "stream",
          "text": [
            "{'x': [1, 2, 7], 'y': [1, 2], 'z': [1]}\n"
          ],
          "name": "stdout"
        }
      ]
    },
    {
      "cell_type": "markdown",
      "metadata": {
        "id": "XWGd0A5VUI_U",
        "colab_type": "text"
      },
      "source": [
        "18.Write a Python program to convert a list to a tuple."
      ]
    },
    {
      "cell_type": "code",
      "metadata": {
        "id": "SuWOSxhSTjxe",
        "colab_type": "code",
        "colab": {
          "base_uri": "https://localhost:8080/",
          "height": 34
        },
        "outputId": "9d6669b7-d650-4102-98df-d929c003f9a1"
      },
      "source": [
        "li=['mango','apple','bond']\n",
        "print(\"The conversion of list to a tuple is: \",tuple(li))"
      ],
      "execution_count": 55,
      "outputs": [
        {
          "output_type": "stream",
          "text": [
            "The conversion of list to a tuple is:  ('mango', 'apple', 'bond')\n"
          ],
          "name": "stdout"
        }
      ]
    },
    {
      "cell_type": "code",
      "metadata": {
        "id": "GeFu0IQNU5Tw",
        "colab_type": "code",
        "colab": {}
      },
      "source": [
        ""
      ],
      "execution_count": null,
      "outputs": []
    }
  ]
}