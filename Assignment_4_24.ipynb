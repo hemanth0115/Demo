{
  "nbformat": 4,
  "nbformat_minor": 0,
  "metadata": {
    "colab": {
      "name": "Assignment_4_24.ipynb",
      "provenance": []
    },
    "kernelspec": {
      "name": "python3",
      "display_name": "Python 3"
    }
  },
  "cells": [
    {
      "cell_type": "markdown",
      "metadata": {
        "id": "OmEkj3bpNWrR",
        "colab_type": "text"
      },
      "source": [
        "1. Function that returns  first and last digit of a number"
      ]
    },
    {
      "cell_type": "code",
      "metadata": {
        "id": "jIcip7viR3vz",
        "colab_type": "code",
        "colab": {}
      },
      "source": [
        "def first_digit(n):\n",
        "  while n>=10:\n",
        "    n=n/10\n",
        "  return int(n)\n",
        "\n",
        "\n",
        "def last_digit(n):\n",
        "  return(n%10)\n",
        "\n"
      ],
      "execution_count": 30,
      "outputs": []
    },
    {
      "cell_type": "code",
      "metadata": {
        "id": "zC4ySns1ZpLX",
        "colab_type": "code",
        "colab": {
          "base_uri": "https://localhost:8080/",
          "height": 68
        },
        "outputId": "3ba30df1-2744-42f0-ef44-5c0e6e2a82e3"
      },
      "source": [
        "n=int(input(\"enter the numbers: \"))\n",
        "a=first_digit(n)\n",
        "b=last_digit(n)\n",
        "print(\"The first number is: \",a)\n",
        "print(\"The last number is: \",b)"
      ],
      "execution_count": 50,
      "outputs": [
        {
          "output_type": "stream",
          "text": [
            "enter the numbers: 2534\n",
            "The first number is:  2\n",
            "The last number is:  4\n"
          ],
          "name": "stdout"
        }
      ]
    },
    {
      "cell_type": "markdown",
      "metadata": {
        "id": "3mf83GkhNRUO",
        "colab_type": "text"
      },
      "source": [
        "2. Generate first N number of Fibonacci numbers. Take N value from user"
      ]
    },
    {
      "cell_type": "code",
      "metadata": {
        "id": "01h-fdEVSchW",
        "colab_type": "code",
        "colab": {
          "base_uri": "https://localhost:8080/",
          "height": 51
        },
        "outputId": "7e5da738-ca31-4b52-c9a3-8f8b9ee81ba9"
      },
      "source": [
        "n=int(input(\"enter the number: \"))\n",
        "a=0\n",
        "b=1\n",
        "sum=0\n",
        "count=1\n",
        "print(\"Fibonacci Series: \", end = \" \")\n",
        "while(count <= n):\n",
        "  print(sum, end = \" \")\n",
        "  count += 1\n",
        "  a = b\n",
        "  b = sum\n",
        "  sum = a + b"
      ],
      "execution_count": 16,
      "outputs": [
        {
          "output_type": "stream",
          "text": [
            "enter the number: 7\n",
            "Fibonacci Series:  0 1 1 2 3 5 8 "
          ],
          "name": "stdout"
        }
      ]
    },
    {
      "cell_type": "markdown",
      "metadata": {
        "id": "3RA6_G5ZTdLy",
        "colab_type": "text"
      },
      "source": [
        "3. Take N number of marks and names from user and display the names of  failedstudents(marks<40). Take N value from user"
      ]
    },
    {
      "cell_type": "code",
      "metadata": {
        "id": "aYTSvrA8TGkU",
        "colab_type": "code",
        "colab": {
          "base_uri": "https://localhost:8080/",
          "height": 170
        },
        "outputId": "268a7be1-e489-4e57-db40-3f46985afb94"
      },
      "source": [
        "n=int(input(\"enter the markes: \"))\n",
        "a=int(input(\"enter the rohit marks: \"))\n",
        "b=int(input(\"enter the deepak marks: \"))\n",
        "c=int(input(\"enter the naveen marks: \"))\n",
        "d=int(input(\"enter the arjun marks: \"))\n",
        "if n>40:\n",
        "  print(\"The students are passed\")\n",
        "else:\n",
        "  print(\"Rohit has failed\",a)\n",
        "  print(\"Deepak has failed\",b)\n",
        "  print(\"Naveen has failed\",c)\n",
        "  print(\"Arjun has failed\",d)"
      ],
      "execution_count": 18,
      "outputs": [
        {
          "output_type": "stream",
          "text": [
            "enter the markes: 40\n",
            "enter the rohit marks: 12\n",
            "enter the deepak marks: 13\n",
            "enter the naveen marks: 26\n",
            "enter the arjun marks: 20\n",
            "Rohit has failed 12\n",
            "Deepak has failed 13\n",
            "Naveen has failed 26\n",
            "Arjun has failed 20\n"
          ],
          "name": "stdout"
        }
      ]
    },
    {
      "cell_type": "markdown",
      "metadata": {
        "id": "LVC6bSFoV4LJ",
        "colab_type": "text"
      },
      "source": [
        "4. Display multiplication table of K. Take k value from user"
      ]
    },
    {
      "cell_type": "code",
      "metadata": {
        "id": "7DrkZmRnVLSE",
        "colab_type": "code",
        "colab": {
          "base_uri": "https://localhost:8080/",
          "height": 204
        },
        "outputId": "9aeea250-8b78-4e8b-9e44-0be82a5beb13"
      },
      "source": [
        "k=int(input(\"enter the number: \"))\n",
        "for i in range(1,11):\n",
        "  print(k,'x',i,'=',k*i)"
      ],
      "execution_count": 24,
      "outputs": [
        {
          "output_type": "stream",
          "text": [
            "enter the number: 7\n",
            "7 x 1 = 7\n",
            "7 x 2 = 14\n",
            "7 x 3 = 21\n",
            "7 x 4 = 28\n",
            "7 x 5 = 35\n",
            "7 x 6 = 42\n",
            "7 x 7 = 49\n",
            "7 x 8 = 56\n",
            "7 x 9 = 63\n",
            "7 x 10 = 70\n"
          ],
          "name": "stdout"
        }
      ]
    },
    {
      "cell_type": "markdown",
      "metadata": {
        "id": "NFfVLekbXrJo",
        "colab_type": "text"
      },
      "source": [
        "5. Take numbers from user until the number is -1 and display the product and average of all numbers."
      ]
    },
    {
      "cell_type": "code",
      "metadata": {
        "id": "8B9BV-kqWkS0",
        "colab_type": "code",
        "colab": {
          "base_uri": "https://localhost:8080/",
          "height": 68
        },
        "outputId": "2e8ff447-f082-4645-ef6d-a7747b53a9fc"
      },
      "source": [
        "n=int(input(\"enter the number: \"))\n",
        "sum=0\n",
        "mul=1\n",
        "for i in range(-2,n):\n",
        "  count=mul*i\n",
        "  sum=sum+1\n",
        "  a=sum/n\n",
        "print(\"The product is: \",count)\n",
        "print(\"The average  is: \",a)"
      ],
      "execution_count": 47,
      "outputs": [
        {
          "output_type": "stream",
          "text": [
            "enter the number: 5\n",
            "The product is:  4\n",
            "The average  is:  1.4\n"
          ],
          "name": "stdout"
        }
      ]
    },
    {
      "cell_type": "code",
      "metadata": {
        "id": "Zj21xW5obc44",
        "colab_type": "code",
        "colab": {}
      },
      "source": [
        ""
      ],
      "execution_count": null,
      "outputs": []
    }
  ]
}