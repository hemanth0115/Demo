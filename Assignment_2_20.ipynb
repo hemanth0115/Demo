{
  "nbformat": 4,
  "nbformat_minor": 0,
  "metadata": {
    "colab": {
      "name": "Assignment_2_20.ipynb",
      "provenance": []
    },
    "kernelspec": {
      "name": "python3",
      "display_name": "Python 3"
    }
  },
  "cells": [
    {
      "cell_type": "markdown",
      "metadata": {
        "id": "tgmM1PqAWXEV",
        "colab_type": "text"
      },
      "source": [
        "1. Write a program in python to check whether a person is eligible for voting or not using if-else."
      ]
    },
    {
      "cell_type": "code",
      "metadata": {
        "id": "-2v-qgMyWEhY",
        "colab_type": "code",
        "colab": {
          "base_uri": "https://localhost:8080/",
          "height": 68
        },
        "outputId": "72f6e7c7-a5dc-4427-f588-d833d1afb85f"
      },
      "source": [
        "age=int(input(\"enter the age of the person\"))\n",
        "if age>=18:\n",
        "  print(\"The person is eligible to vote\")\n",
        "else:\n",
        "  print(\"The person is not eligible to vote\")\n",
        "print(\"This is ELECTION RULE\")"
      ],
      "execution_count": null,
      "outputs": [
        {
          "output_type": "stream",
          "text": [
            "enter the age of the person22\n",
            "The person is eligible to vote\n",
            "This is ELECTION RULE\n"
          ],
          "name": "stdout"
        }
      ]
    },
    {
      "cell_type": "markdown",
      "metadata": {
        "id": "MMLfkCMDXi4J",
        "colab_type": "text"
      },
      "source": [
        "2. Write a program to check whether a number is even or odd using if-else."
      ]
    },
    {
      "cell_type": "code",
      "metadata": {
        "id": "OXMrfEdCXWw6",
        "colab_type": "code",
        "colab": {
          "base_uri": "https://localhost:8080/",
          "height": 51
        },
        "outputId": "8c730049-b0c8-4790-90a5-b050c20915f7"
      },
      "source": [
        "num=int(input(\"enter the number\"))\n",
        "if num%2==0:\n",
        "  print(num,\"The number is even\")\n",
        "else:\n",
        "  print(num,\"The number is odd\")"
      ],
      "execution_count": null,
      "outputs": [
        {
          "output_type": "stream",
          "text": [
            "enter the number0\n",
            "0 The number is even\n"
          ],
          "name": "stdout"
        }
      ]
    },
    {
      "cell_type": "markdown",
      "metadata": {
        "id": "tSJwEfqiYnR2",
        "colab_type": "text"
      },
      "source": [
        "3. Write a program to print the string in reverse order by using string indexing"
      ]
    },
    {
      "cell_type": "code",
      "metadata": {
        "id": "SrdziRVuYbtf",
        "colab_type": "code",
        "colab": {
          "base_uri": "https://localhost:8080/",
          "height": 51
        },
        "outputId": "9d8ef8a1-9fb0-4954-cbb1-30f0a5365d4c"
      },
      "source": [
        "s1=(input(\"enter the string\"))\n",
        "reverse=s1[::-1]\n",
        "print(\"The reverse of given string is\",reverse)"
      ],
      "execution_count": null,
      "outputs": [
        {
          "output_type": "stream",
          "text": [
            "enter the stringword\n",
            "The reverse of given string is drow\n"
          ],
          "name": "stdout"
        }
      ]
    },
    {
      "cell_type": "markdown",
      "metadata": {
        "id": "Y5tkzlYhaNZP",
        "colab_type": "text"
      },
      "source": [
        "4. Write a python program to check whether a number is positive or not using if-else."
      ]
    },
    {
      "cell_type": "code",
      "metadata": {
        "id": "7n200jw7Z9qz",
        "colab_type": "code",
        "colab": {
          "base_uri": "https://localhost:8080/",
          "height": 51
        },
        "outputId": "c3f08378-91be-4271-e31c-2875f06fac5f"
      },
      "source": [
        "num=int(input(\"enter the number\"))\n",
        "if num>0:\n",
        "  print(\"The number is positive\",num)\n",
        "else:\n",
        "  print(\"The number is negative\",num)"
      ],
      "execution_count": null,
      "outputs": [
        {
          "output_type": "stream",
          "text": [
            "enter the number-1\n",
            "The number is negative -1\n"
          ],
          "name": "stdout"
        }
      ]
    },
    {
      "cell_type": "markdown",
      "metadata": {
        "id": "YM-q0TMvbCU4",
        "colab_type": "text"
      },
      "source": [
        "5. Write a python program to find the roots of a quadratic equation using elif. "
      ]
    },
    {
      "cell_type": "code",
      "metadata": {
        "id": "zbDmVxNEa0cw",
        "colab_type": "code",
        "colab": {
          "base_uri": "https://localhost:8080/",
          "height": 85
        },
        "outputId": "a50efb04-9a91-4266-84c1-22a1e50297ab"
      },
      "source": [
        "import math\n",
        "a=int(input(\"enter the value of a\"))\n",
        "b=int(input(\"enter the value of b\"))\n",
        "c=int(input(\"enter the value of c\"))\n",
        "d=((b*b)-4*a*c)\n",
        "if d>0:\n",
        "  r1=(-b + math.sqrt(d))/(2*a)\n",
        "  r2=(-b - math.sqrt(d))/(2*a)\n",
        "  print(\"root1\",r1,\"root2\",r2)\n",
        "elif d==0:\n",
        "  r1=r2=-b/(2*a)\n",
        "  print(\"root1 is equal to root2\",r1)\n",
        "else:\n",
        "  rp=-b/(2*a)\n",
        "  ip= math.sqrt(-d)/(2*a)\n",
        "  print(\"real part\",rp,\"imaginary part\",ip)"
      ],
      "execution_count": null,
      "outputs": [
        {
          "output_type": "stream",
          "text": [
            "enter the value of a1\n",
            "enter the value of b2\n",
            "enter the value of c1\n",
            "root1 is equal to root2 -1.0\n"
          ],
          "name": "stdout"
        }
      ]
    },
    {
      "cell_type": "markdown",
      "metadata": {
        "id": "TtegC4iQhAQB",
        "colab_type": "text"
      },
      "source": [
        "6. Write  a program using nested-if to check whether a number is positive or negative or zero."
      ]
    },
    {
      "cell_type": "code",
      "metadata": {
        "id": "_b-N79PCd-hu",
        "colab_type": "code",
        "colab": {
          "base_uri": "https://localhost:8080/",
          "height": 51
        },
        "outputId": "3af50ee4-fb0a-44f1-c39f-ad735c053e5c"
      },
      "source": [
        "num=int(input(\"enter the number\"))\n",
        "if num<=0:\n",
        "  if num>=0:\n",
        "    print(\"The number is zero\")\n",
        "  else:\n",
        "    print(\"the number is negative\")\n",
        "else:\n",
        "  print(\"the number is positive\")"
      ],
      "execution_count": null,
      "outputs": [
        {
          "output_type": "stream",
          "text": [
            "enter the number-7000\n",
            "the number is negative\n"
          ],
          "name": "stdout"
        }
      ]
    },
    {
      "cell_type": "markdown",
      "metadata": {
        "id": "Gk6pnnMelD85",
        "colab_type": "text"
      },
      "source": [
        "7. Write a program to accept a number(1-5) and print the given number in words."
      ]
    },
    {
      "cell_type": "code",
      "metadata": {
        "id": "Aw7DYwPBjK0V",
        "colab_type": "code",
        "colab": {
          "base_uri": "https://localhost:8080/",
          "height": 51
        },
        "outputId": "6d43547a-2b60-465f-f660-40d9bdff9f8b"
      },
      "source": [
        "num=int(input(\"enter the number\"))\n",
        "if num==1:\n",
        "  print(\"The number is said to be ONE\")\n",
        "elif num==2:\n",
        "  print(\"The number is said to be TWO\")\n",
        "elif num==3:\n",
        "  print(\"The number is said to be THREE\")\n",
        "elif num==4:\n",
        "  print(\"The number is said to be FOUR\")\n",
        "elif num==5:\n",
        "  print(\"The number is said to be FIVE\")\n",
        "else:\n",
        "  print(\"The number is invalid\")"
      ],
      "execution_count": null,
      "outputs": [
        {
          "output_type": "stream",
          "text": [
            "enter the number2\n",
            "The number is said to be TWO\n"
          ],
          "name": "stdout"
        }
      ]
    },
    {
      "cell_type": "markdown",
      "metadata": {
        "id": "C6DhBVHgoquD",
        "colab_type": "text"
      },
      "source": [
        "8. Write a program to read a character and print the given character is vowel or consonant."
      ]
    },
    {
      "cell_type": "code",
      "metadata": {
        "id": "D8s4RuVMoy1v",
        "colab_type": "code",
        "colab": {
          "base_uri": "https://localhost:8080/",
          "height": 51
        },
        "outputId": "0d933bc0-cc00-49b4-f1de-4fc6ce3fa349"
      },
      "source": [
        "ch = input(\"Enter a character: \")\n",
        "if(ch=='A' or ch=='a' or ch=='E' or ch =='e' or ch=='I'\n",
        " or ch=='i' or ch=='O' or ch=='o' or ch=='U' or ch=='u'):\n",
        "    print(ch, \"is a Vowel\")\n",
        "else:\n",
        "    print(ch, \"is a Consonant\")"
      ],
      "execution_count": null,
      "outputs": [
        {
          "output_type": "stream",
          "text": [
            "Enter a character: O\n",
            "O is a Vowel\n"
          ],
          "name": "stdout"
        }
      ]
    },
    {
      "cell_type": "code",
      "metadata": {
        "id": "o9f_sCQzrKUy",
        "colab_type": "code",
        "colab": {}
      },
      "source": [
        ""
      ],
      "execution_count": null,
      "outputs": []
    }
  ]
}